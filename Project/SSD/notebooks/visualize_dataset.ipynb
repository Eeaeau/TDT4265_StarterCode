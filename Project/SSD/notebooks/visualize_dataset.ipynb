{
 "cells": [
  {
   "cell_type": "code",
   "execution_count": 21,
   "metadata": {},
   "outputs": [
    {
     "name": "stdout",
     "output_type": "stream",
     "text": [
      "Current working dir : c:\\Users\\sebsk\\Documents\\Git\n"
     ]
    }
   ],
   "source": [
    "import sys, os\n",
    "sys.path.append(os.path.dirname(os.getcwd())) # Include ../SSD in path\n",
    "import numpy as np\n",
    "import torch\n",
    "import matplotlib.pyplot as plt\n",
    "from vizer.draw import draw_boxes\n",
    "from tops.config import instantiate, LazyConfig\n",
    "from ssd import utils\n",
    "np.random.seed(0)\n"
   ]
  },
  {
   "cell_type": "code",
   "execution_count": 22,
   "metadata": {},
   "outputs": [
    {
     "ename": "FileNotFoundError",
     "evalue": "[Errno 2] No such file or directory: 'configs/tdt4265_augmented.py'",
     "output_type": "error",
     "traceback": [
      "\u001b[1;31m---------------------------------------------------------------------------\u001b[0m",
      "\u001b[1;31mFileNotFoundError\u001b[0m                         Traceback (most recent call last)",
      "\u001b[1;32mc:\\Users\\sebsk\\Documents\\Git\\TDT4265_StarterCode\\Project\\SSD\\notebooks\\visualize_dataset.ipynb Cell 2'\u001b[0m in \u001b[0;36m<cell line: 2>\u001b[1;34m()\u001b[0m\n\u001b[0;32m      <a href='vscode-notebook-cell:/c%3A/Users/sebsk/Documents/Git/TDT4265_StarterCode/Project/SSD/notebooks/visualize_dataset.ipynb#ch0000001?line=0'>1</a>\u001b[0m config_path \u001b[39m=\u001b[39m \u001b[39m\"\u001b[39m\u001b[39mconfigs/tdt4265_augmented.py\u001b[39m\u001b[39m\"\u001b[39m\n\u001b[1;32m----> <a href='vscode-notebook-cell:/c%3A/Users/sebsk/Documents/Git/TDT4265_StarterCode/Project/SSD/notebooks/visualize_dataset.ipynb#ch0000001?line=1'>2</a>\u001b[0m cfg \u001b[39m=\u001b[39m LazyConfig\u001b[39m.\u001b[39;49mload(config_path)\n\u001b[0;32m      <a href='vscode-notebook-cell:/c%3A/Users/sebsk/Documents/Git/TDT4265_StarterCode/Project/SSD/notebooks/visualize_dataset.ipynb#ch0000001?line=2'>3</a>\u001b[0m dataset_to_visualize \u001b[39m=\u001b[39m \u001b[39m\"\u001b[39m\u001b[39mtrain\u001b[39m\u001b[39m\"\u001b[39m \u001b[39m# or \"val\"\u001b[39;00m\n\u001b[0;32m      <a href='vscode-notebook-cell:/c%3A/Users/sebsk/Documents/Git/TDT4265_StarterCode/Project/SSD/notebooks/visualize_dataset.ipynb#ch0000001?line=4'>5</a>\u001b[0m dataset_to_visualize \u001b[39m=\u001b[39m \u001b[39m\"\u001b[39m\u001b[39mtrain\u001b[39m\u001b[39m\"\u001b[39m \u001b[39m# or \"val\"\u001b[39;00m\n",
      "File \u001b[1;32mc:\\Users\\sebsk\\Documents\\Git\\TDT4265_StarterCode\\Project\\SSD\\tops\\config\\lazy.py:198\u001b[0m, in \u001b[0;36mLazyConfig.load\u001b[1;34m(filename, keys)\u001b[0m\n\u001b[0;32m    <a href='file:///c%3A/Users/sebsk/Documents/Git/TDT4265_StarterCode/Project/SSD/tops/config/lazy.py?line=195'>196</a>\u001b[0m     \u001b[39mraise\u001b[39;00m \u001b[39mValueError\u001b[39;00m(\u001b[39mf\u001b[39m\u001b[39m\"\u001b[39m\u001b[39mConfig file \u001b[39m\u001b[39m{\u001b[39;00mfilename\u001b[39m}\u001b[39;00m\u001b[39m has to be a python or yaml file.\u001b[39m\u001b[39m\"\u001b[39m)\n\u001b[0;32m    <a href='file:///c%3A/Users/sebsk/Documents/Git/TDT4265_StarterCode/Project/SSD/tops/config/lazy.py?line=196'>197</a>\u001b[0m \u001b[39mif\u001b[39;00m filename\u001b[39m.\u001b[39mendswith(\u001b[39m\"\u001b[39m\u001b[39m.py\u001b[39m\u001b[39m\"\u001b[39m):\n\u001b[1;32m--> <a href='file:///c%3A/Users/sebsk/Documents/Git/TDT4265_StarterCode/Project/SSD/tops/config/lazy.py?line=197'>198</a>\u001b[0m     _validate_py_syntax(filename)\n\u001b[0;32m    <a href='file:///c%3A/Users/sebsk/Documents/Git/TDT4265_StarterCode/Project/SSD/tops/config/lazy.py?line=199'>200</a>\u001b[0m     \u001b[39mwith\u001b[39;00m _patch_import():\n\u001b[0;32m    <a href='file:///c%3A/Users/sebsk/Documents/Git/TDT4265_StarterCode/Project/SSD/tops/config/lazy.py?line=200'>201</a>\u001b[0m         \u001b[39m# Record the filename\u001b[39;00m\n\u001b[0;32m    <a href='file:///c%3A/Users/sebsk/Documents/Git/TDT4265_StarterCode/Project/SSD/tops/config/lazy.py?line=201'>202</a>\u001b[0m         module_namespace \u001b[39m=\u001b[39m {\n\u001b[0;32m    <a href='file:///c%3A/Users/sebsk/Documents/Git/TDT4265_StarterCode/Project/SSD/tops/config/lazy.py?line=202'>203</a>\u001b[0m             \u001b[39m\"\u001b[39m\u001b[39m__file__\u001b[39m\u001b[39m\"\u001b[39m: filename,\n\u001b[0;32m    <a href='file:///c%3A/Users/sebsk/Documents/Git/TDT4265_StarterCode/Project/SSD/tops/config/lazy.py?line=203'>204</a>\u001b[0m             \u001b[39m\"\u001b[39m\u001b[39m__package__\u001b[39m\u001b[39m\"\u001b[39m: _random_package_name(filename),\n\u001b[0;32m    <a href='file:///c%3A/Users/sebsk/Documents/Git/TDT4265_StarterCode/Project/SSD/tops/config/lazy.py?line=204'>205</a>\u001b[0m         }\n",
      "File \u001b[1;32mc:\\Users\\sebsk\\Documents\\Git\\TDT4265_StarterCode\\Project\\SSD\\tops\\config\\lazy.py:77\u001b[0m, in \u001b[0;36m_validate_py_syntax\u001b[1;34m(filename)\u001b[0m\n\u001b[0;32m     <a href='file:///c%3A/Users/sebsk/Documents/Git/TDT4265_StarterCode/Project/SSD/tops/config/lazy.py?line=74'>75</a>\u001b[0m \u001b[39mdef\u001b[39;00m \u001b[39m_validate_py_syntax\u001b[39m(filename):\n\u001b[0;32m     <a href='file:///c%3A/Users/sebsk/Documents/Git/TDT4265_StarterCode/Project/SSD/tops/config/lazy.py?line=75'>76</a>\u001b[0m     \u001b[39m# see also https://github.com/open-mmlab/mmcv/blob/master/mmcv/utils/config.py\u001b[39;00m\n\u001b[1;32m---> <a href='file:///c%3A/Users/sebsk/Documents/Git/TDT4265_StarterCode/Project/SSD/tops/config/lazy.py?line=76'>77</a>\u001b[0m     \u001b[39mwith\u001b[39;00m \u001b[39mopen\u001b[39;49m(filename, \u001b[39m\"\u001b[39;49m\u001b[39mr\u001b[39;49m\u001b[39m\"\u001b[39;49m) \u001b[39mas\u001b[39;00m f:\n\u001b[0;32m     <a href='file:///c%3A/Users/sebsk/Documents/Git/TDT4265_StarterCode/Project/SSD/tops/config/lazy.py?line=77'>78</a>\u001b[0m         content \u001b[39m=\u001b[39m f\u001b[39m.\u001b[39mread()\n\u001b[0;32m     <a href='file:///c%3A/Users/sebsk/Documents/Git/TDT4265_StarterCode/Project/SSD/tops/config/lazy.py?line=78'>79</a>\u001b[0m     \u001b[39mtry\u001b[39;00m:\n",
      "\u001b[1;31mFileNotFoundError\u001b[0m: [Errno 2] No such file or directory: 'configs/tdt4265_augmented.py'"
     ]
    }
   ],
   "source": [
    "config_path = \"../configs/ssd300.py\"\n",
    "cfg = LazyConfig.load(config_path)\n",
    "dataset_to_visualize = \"train\" # or \"val\"\n",
    "\n",
    "dataset_to_visualize = \"train\" # or \"val\"\n",
    "cfg.train.batch_size = 1\n",
    "if dataset_to_visualize == \"train\":\n",
    "    # Remove GroundTruthBoxesToAnchors transform\n",
    "    if cfg.data_train.dataset._target_ == torch.utils.data.ConcatDataset:\n",
    "        for dataset in cfg.data_train.dataset.datasets:\n",
    "            dataset.transform.transforms = dataset.transform.transforms[:-1]\n",
    "    else:\n",
    "        cfg.data_train.dataset.transform.transforms = cfg.data_train.dataset.transform.transforms[:-1]\n",
    "    dataset = instantiate(cfg.data_train.dataloader)\n",
    "    gpu_transform = instantiate(cfg.data_train.gpu_transform)\n",
    "else:\n",
    "    cfg.data_val.dataloader.collate_fn = utils.batch_collate\n",
    "    dataset = instantiate(cfg.data_val.dataloader) \n",
    "    gpu_transform = instantiate(cfg.data_val.gpu_transform)\n",
    "\n",
    "# Assumes that the first GPU transform is Normalize\n",
    "# If it fails, just change the index from 0.\n",
    "image_mean = torch.tensor(cfg.data_train.gpu_transform.transforms[0].mean).view(1, 3, 1, 1)\n",
    "image_std = torch.tensor(cfg.data_train.gpu_transform.transforms[0].std).view(1, 3, 1, 1)\n",
    "sample = next(iter(dataset))\n",
    "sample = gpu_transform(sample)"
   ]
  },
  {
   "cell_type": "code",
   "execution_count": null,
   "metadata": {},
   "outputs": [
    {
     "name": "stdout",
     "output_type": "stream",
     "text": [
      "The first sample in the dataset has the following keys: dict_keys(['image', 'boxes', 'labels', 'width', 'height', 'image_id'])\n",
      "image: shape=torch.Size([1, 3, 300, 300])dtype=torch.float32\n",
      "boxes: shape=torch.Size([1, 7, 4])dtype=torch.float32\n",
      "labels: shape=torch.Size([1, 7])dtype=torch.int64\n",
      "width: shape=torch.Size([1])dtype=torch.int64\n",
      "height: shape=torch.Size([1])dtype=torch.int64\n",
      "image_id: shape=torch.Size([1])dtype=torch.int64\n"
     ]
    }
   ],
   "source": [
    "\n",
    "print(\"The first sample in the dataset has the following keys:\", sample.keys())\n",
    "for key, item in sample.items():\n",
    "    print(\n",
    "        key, \": shape=\", item.shape if hasattr(item, \"shape\") else \"\", \n",
    "        \"dtype=\", item.dtype if hasattr(item, \"dtype\") else type(item), sep=\"\")\n"
   ]
  },
  {
   "cell_type": "code",
   "execution_count": null,
   "metadata": {},
   "outputs": [
    {
     "data": {
      "image/png": "[encoded data removed]",
      "text/plain": [
       "<Figure size 432x288 with 1 Axes>"
      ]
     },
     "metadata": {
      "needs_background": "light"
     },
     "output_type": "display_data"
    }
   ],
   "source": [
    "\n",
    "image = (sample[\"image\"] * image_std + image_mean)\n",
    "image = (image*255).byte()[0]\n",
    "boxes = sample[\"boxes\"][0]\n",
    "boxes[:, [0, 2]] *= image.shape[-1]\n",
    "boxes[:, [1, 3]] *= image.shape[-2]\n",
    "im = image.permute(1, 2, 0).cpu().numpy()\n",
    "im = draw_boxes(im, boxes.cpu().numpy(), sample[\"labels\"][0].cpu().numpy().tolist(), class_name_map=cfg.label_map)\n",
    "\n",
    "\n",
    "plt.imshow(im)\n",
    "plt.show()"
   ]
  }
 ],
 "metadata": {
  "interpreter": {
   "hash": "088b827b8b985f163c2bc9e7571c109fd1cd09e7d4200c98bc68a07b57088618"
  },
  "kernelspec": {
   "display_name": "Python 3 (ipykernel)",
   "language": "python",
   "name": "python3"
  },
  "language_info": {
   "codemirror_mode": {
    "name": "ipython",
    "version": 3
   },
   "file_extension": ".py",
   "mimetype": "text/x-python",
   "name": "python",
   "nbconvert_exporter": "python",
   "pygments_lexer": "ipython3",
   "version": "3.8.12"
  }
 },
 "nbformat": 4,
 "nbformat_minor": 4
}
